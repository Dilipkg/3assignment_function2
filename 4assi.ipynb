{
 "cells": [
  {
   "cell_type": "markdown",
   "id": "cd29967c-4328-4940-a620-24e35e8d061a",
   "metadata": {},
   "source": [
    "Q1\n",
    "l=[('Sachin Tendulkar', 34357), ('Ricky Ponting', 27483), ('Jack Kallis', 25534), ('Virat Kohli', 24936)]\n",
    "l.sort(key=lambda x:x[0])\n",
    "print(l)"
   ]
  },
  {
   "cell_type": "markdown",
   "id": "91c9ccf6-0863-44db-ae0e-b9246fd9d713",
   "metadata": {},
   "source": [
    "Q2.\n",
    "l1=[1, 2, 3, 4, 5, 6, 7, 8, 9, 10]\n",
    "def sq(x):\n",
    "    return x**2\n",
    "list(map(sq,l1))\n",
    "      or\n",
    "list(map(lambda x: x**2,l1))"
   ]
  },
  {
   "cell_type": "markdown",
   "id": "aeceed03-95b6-454d-8d42-3018c1424e0a",
   "metadata": {},
   "source": [
    "Q3.\n",
    "l2=[1, 2, 3, 4, 5, 6, 7, 8, 9, 10]\n",
    "tuple(map(str,l2))"
   ]
  },
  {
   "cell_type": "markdown",
   "id": "abc23f98-128c-4725-8c6f-6f45316f19c8",
   "metadata": {},
   "source": [
    "from functools import reduce"
   ]
  },
  {
   "cell_type": "markdown",
   "id": "977b0b10-ebb9-49a9-a67e-00ad2364a53f",
   "metadata": {},
   "source": [
    "Q4.\n",
    "l3=[1,2,3,4,5,6,7,8,9,10,11,12,13,14,15,16,17,18,19,20,21,22,23,24,25]\n",
    "reduce(lambda x,y : x+y,l3)"
   ]
  },
  {
   "cell_type": "markdown",
   "id": "b59d23d5-ffe4-4a46-b035-a648b9cb2dc8",
   "metadata": {},
   "source": [
    "Q5.\n",
    "l4=[2, 3, 6, 9, 27, 60, 90, 120, 55, 46]\n",
    "list(filter(lambda x: x%2==0 or x%3==0 , l4))"
   ]
  },
  {
   "cell_type": "markdown",
   "id": "c394ac99-ddcf-4181-ae2e-82167a83b127",
   "metadata": {},
   "source": [
    "Q6.\n",
    "l5=['python', 'php', 'aba', 'radar', 'level']\n",
    "list(filter(lambda x : (x == ''.join(reversed(x))),l5))"
   ]
  },
  {
   "cell_type": "markdown",
   "id": "c88b4f1b-89ad-4971-ac0a-d2103a48777f",
   "metadata": {},
   "source": []
  },
  {
   "cell_type": "code",
   "execution_count": null,
   "id": "f2805bff-b218-4a7e-9518-505f33c304b5",
   "metadata": {},
   "outputs": [],
   "source": []
  }
 ],
 "metadata": {
  "kernelspec": {
   "display_name": "Python 3 (ipykernel)",
   "language": "python",
   "name": "python3"
  },
  "language_info": {
   "codemirror_mode": {
    "name": "ipython",
    "version": 3
   },
   "file_extension": ".py",
   "mimetype": "text/x-python",
   "name": "python",
   "nbconvert_exporter": "python",
   "pygments_lexer": "ipython3",
   "version": "3.10.8"
  }
 },
 "nbformat": 4,
 "nbformat_minor": 5
}
